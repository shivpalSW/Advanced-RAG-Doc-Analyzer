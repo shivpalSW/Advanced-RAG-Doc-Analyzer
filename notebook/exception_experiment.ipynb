{
 "cells": [
  {
   "cell_type": "code",
   "execution_count": 7,
   "id": "551f08fc",
   "metadata": {},
   "outputs": [
    {
     "name": "stdout",
     "output_type": "stream",
     "text": [
      "Kernal is running...\n"
     ]
    }
   ],
   "source": [
    "print(\"Kernal is running...\")"
   ]
  },
  {
   "cell_type": "code",
   "execution_count": null,
   "id": "096cf9e1",
   "metadata": {},
   "outputs": [],
   "source": [
    "### __file__ in .py file automatically gets the name of the file"
   ]
  },
  {
   "cell_type": "code",
   "execution_count": 12,
   "id": "b5c60d2c",
   "metadata": {},
   "outputs": [],
   "source": [
    "from logger.custom_logger import CustomLogger"
   ]
  },
  {
   "cell_type": "code",
   "execution_count": 13,
   "id": "58e87433",
   "metadata": {},
   "outputs": [],
   "source": [
    "logger=CustomLogger().get_logger(\"exception_experiment\")"
   ]
  },
  {
   "cell_type": "code",
   "execution_count": 14,
   "id": "ac2251dc",
   "metadata": {},
   "outputs": [
    {
     "name": "stdout",
     "output_type": "stream",
     "text": [
      "(<class 'ZeroDivisionError'>, ZeroDivisionError('division by zero'), <traceback object at 0x0000022270632340>)\n"
     ]
    },
    {
     "ename": "DocumentPortalException",
     "evalue": "\n        Error in [C:\\Users\\HP\\AppData\\Local\\Temp\\ipykernel_31032\\3700746888.py] at line [27] \n        Message: division by zero\n        Traceback:\n        Traceback (most recent call last):\n  File \"C:\\Users\\HP\\AppData\\Local\\Temp\\ipykernel_31032\\3700746888.py\", line 27, in <module>\n    a = 1 / 0\nZeroDivisionError: division by zero\n\n        ",
     "output_type": "error",
     "traceback": [
      "\u001b[1;31m---------------------------------------------------------------------------\u001b[0m",
      "\u001b[1;31mZeroDivisionError\u001b[0m                         Traceback (most recent call last)",
      "Cell \u001b[1;32mIn[14], line 27\u001b[0m\n\u001b[0;32m     25\u001b[0m \u001b[38;5;28;01mtry\u001b[39;00m:\n\u001b[0;32m     26\u001b[0m     \u001b[38;5;66;03m# Simulate an error\u001b[39;00m\n\u001b[1;32m---> 27\u001b[0m     a \u001b[38;5;241m=\u001b[39m \u001b[38;5;241;43m1\u001b[39;49m\u001b[43m \u001b[49m\u001b[38;5;241;43m/\u001b[39;49m\u001b[43m \u001b[49m\u001b[38;5;241;43m0\u001b[39;49m\n\u001b[0;32m     28\u001b[0m     \u001b[38;5;28mprint\u001b[39m(a) \n",
      "\u001b[1;31mZeroDivisionError\u001b[0m: division by zero",
      "\nDuring handling of the above exception, another exception occurred:\n",
      "\u001b[1;31mDocumentPortalException\u001b[0m                   Traceback (most recent call last)",
      "Cell \u001b[1;32mIn[14], line 32\u001b[0m\n\u001b[0;32m     30\u001b[0m app_exc\u001b[38;5;241m=\u001b[39mDocumentPortalException(e,sys)\n\u001b[0;32m     31\u001b[0m logger\u001b[38;5;241m.\u001b[39merror(app_exc)\n\u001b[1;32m---> 32\u001b[0m \u001b[38;5;28;01mraise\u001b[39;00m app_exc\n",
      "\u001b[1;31mDocumentPortalException\u001b[0m: \n        Error in [C:\\Users\\HP\\AppData\\Local\\Temp\\ipykernel_31032\\3700746888.py] at line [27] \n        Message: division by zero\n        Traceback:\n        Traceback (most recent call last):\n  File \"C:\\Users\\HP\\AppData\\Local\\Temp\\ipykernel_31032\\3700746888.py\", line 27, in <module>\n    a = 1 / 0\nZeroDivisionError: division by zero\n\n        "
     ]
    }
   ],
   "source": [
    "import sys\n",
    "import traceback\n",
    "class DocumentPortalException(Exception):\n",
    "    \"\"\"Custom exception for Document Portal\"\"\"\n",
    "    def __init__(self,error_message,error_details:sys):\n",
    "        print(error_details.exc_info())# Debugging purpose\n",
    "        _,_,exc_tb=error_details.exc_info() # Get the traceback object\n",
    "        self.file_name=exc_tb.tb_frame.f_code.co_filename\n",
    "        self.lineno=exc_tb.tb_lineno # Get the line number where the exception occurred\n",
    "        self.error_message=str(error_message)# Convert the error message to string\n",
    "        # Format the traceback for better readability\n",
    "        self.traceback_str = ''.join(traceback.format_exception(*error_details.exc_info())) # Convert the traceback to a string\n",
    "\n",
    "    def __str__(self):# Override the string representation of the exception\n",
    "        \"\"\"Return a formatted string representation of the exception\"\"\"\n",
    "        return f\"\"\"\n",
    "        Error in [{self.file_name}] at line [{self.lineno}] \n",
    "        Message: {self.error_message}\n",
    "        Traceback:\n",
    "        {self.traceback_str}\n",
    "        \"\"\"\n",
    "    \n",
    "if __name__ == \"__main__\":# Main function to run the script\n",
    "    logger.info(\"Starting exception experiment...\")# Log the start of the experiment\n",
    "    try:\n",
    "        # Simulate an error\n",
    "        a = 1 / 0\n",
    "        print(a) \n",
    "    except Exception as e:\n",
    "        app_exc=DocumentPortalException(e,sys)\n",
    "        logger.error(app_exc)\n",
    "        raise app_exc"
   ]
  },
  {
   "cell_type": "code",
   "execution_count": null,
   "id": "0dbaf23e",
   "metadata": {},
   "outputs": [],
   "source": [
    "'''\n",
    "Whenever any error is raised in the code, we can handle it in two ways:-\n",
    "\n",
    "1. we can log this error(file, cloud config, command prompt) (it will keep the record of the error and will not \n",
    "   stop the execution of the code)\n",
    "2. we can raise the exception(it will stop the execution of the code)\n",
    "'''\n",
    "\n",
    "'''\n",
    "Whenever any error is raised in the code, we can handle it in two ways:-\n",
    "1. We can either let the error propagate up the call stack and let the program crash.\n",
    "2. We can catch the error and handle it in a way that makes sense for the program.\n",
    "'''\n"
   ]
  },
  {
   "cell_type": "code",
   "execution_count": 5,
   "id": "f14a62fa",
   "metadata": {},
   "outputs": [
    {
     "data": {
      "text/plain": [
       "(None, None, None)"
      ]
     },
     "execution_count": 5,
     "metadata": {},
     "output_type": "execute_result"
    }
   ],
   "source": [
    "import sys\n",
    "sys.exc_info()"
   ]
  },
  {
   "cell_type": "code",
   "execution_count": null,
   "id": "8def2462",
   "metadata": {},
   "outputs": [],
   "source": []
  },
  {
   "cell_type": "code",
   "execution_count": null,
   "id": "2f425770",
   "metadata": {},
   "outputs": [],
   "source": []
  },
  {
   "cell_type": "code",
   "execution_count": null,
   "id": "de5ef9fd",
   "metadata": {},
   "outputs": [],
   "source": []
  },
  {
   "cell_type": "code",
   "execution_count": null,
   "id": "13ce9b08",
   "metadata": {},
   "outputs": [],
   "source": []
  }
 ],
 "metadata": {
  "kernelspec": {
   "display_name": "Python 3",
   "language": "python",
   "name": "python3"
  },
  "language_info": {
   "codemirror_mode": {
    "name": "ipython",
    "version": 3
   },
   "file_extension": ".py",
   "mimetype": "text/x-python",
   "name": "python",
   "nbconvert_exporter": "python",
   "pygments_lexer": "ipython3",
   "version": "3.10.18"
  }
 },
 "nbformat": 4,
 "nbformat_minor": 5
}
